{
 "cells": [
  {
   "cell_type": "markdown",
   "metadata": {},
   "source": [
    "# Homework 5\n",
    "\n",
    "### 1. What is the problem with two-dimensional arrays in C/C++?\n",
    "- Unable to pass/return into/from methods\n",
    "\n",
    "### 2. Describe two ways to work around C/C++’s problems with two dimensional arrays.\n",
    "1. using flat array with size height\\*width, with indexing of \\[j*width + i\\] where j is row number and i is column number.\n",
    "2. using array of pointers, with each pointer pointing at the first element of each row in the flat array. AKA _Neumerical Recipes trick_\n",
    "\n",
    "### 3. Is your computer big endian or little endian? Hint: write a small program to find out.\n",
    "\n",
    "Output: \n",
    "\n",
    "original number: 987654321  \n",
    "original number in HEX: 3ADE68B1  \n",
    "value in the memory as char: b1|68|de|3a|\n",
    "\n",
    "Therefore, it is little edian.\n",
    "\n",
    "The program is on github, edian.cc\n",
    "\n",
    "// Use two spaces after the end of the line for linebreak\n",
    "\n",
    "### 4. Programming assignment on github\n"
   ]
  }
 ],
 "metadata": {
  "kernelspec": {
   "display_name": "Python 3",
   "language": "python",
   "name": "python3"
  },
  "language_info": {
   "codemirror_mode": {
    "name": "ipython",
    "version": 3
   },
   "file_extension": ".py",
   "mimetype": "text/x-python",
   "name": "python",
   "nbconvert_exporter": "python",
   "pygments_lexer": "ipython3",
   "version": "3.6.4"
  }
 },
 "nbformat": 4,
 "nbformat_minor": 2
}
