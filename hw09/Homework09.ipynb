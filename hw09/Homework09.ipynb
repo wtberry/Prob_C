{
 "cells": [
  {
   "cell_type": "markdown",
   "metadata": {},
   "source": [
    "# Homework 09\n",
    "\n",
    "## 1. What is the difference between “downcasting” and “upcasting”?\n",
    "- Upcasting, we create subclass, and have superclass's pointer points at the subclass. The value/class that it is pointing is still subclass\n",
    "- Downcasting, is opposite of upcasting we creat subclass with superclass's pointer pointing at it. And we 'repoint' at it with it's subclasses pointer. \n",
    "\n",
    "## 2. Why would you mark a method as virtual? Why wouldn’t you?\n",
    "- You would use a virtual keyword on a method, so that it can be overriden by its subclasses' method.\n",
    "- You would not use the word in .cc class, only used in .h file. Also don't mark every single methods in class as virtual, since it does slow down execution time slightly.\n",
    "\n",
    "## 3. What is the difference between a dynamic cast and a static cast? Why would you use one over the other?\n",
    "- Dynamic casting always checks if the casting is valid, if the object casted is the same type as requested type. Safest casting method.\n",
    "- Static cast checks it at compile time, but does not check the actual type of the object, less safer than dynamic cast, but faster. Only to be used when you really need to squeeze that extra efficiency.\n",
    "\n",
    "## 4. What might you use a const cast?\n",
    "- For library, where it's author forgot to mark a method const when it is actually not modifying its argument, so you need to 'unconst' your argument to be able to pass it to the method.\n",
    "\n",
    "## 5. Suppose you have a `Fruit` base class and a `Banana` subclass. Suppose you have a banana declared like this:\n",
    "\n",
    "`Banana b;`\n",
    "\n",
    "What is the difference between what happens when you pass your banana to a method de-\n",
    "clared like this:\n",
    "\n",
    "`void eat(Fruit f);`\n",
    "\n",
    "vs. one daclared like this:\n",
    "\n",
    "`void eat(const Fruit& f);`\n",
    "\n",
    "## 6. What is the difference between how Java and C++ handle multiple inheritance?\n",
    "- In java, multiple inheritance is not allowed, instead interafce was invented. \n",
    "- In c++ you can have as many superclass as you wish.\n",
    "\n",
    "## 7. Make two kinds of fish. One kind, the `FlippyFish` swims like the fish in last week’s homework. The other, `DrunkenFish` does a random walk, like this:\n",
    "\n",
    "```C++\n",
    "DrunkenFish::swim() {\n",
    "int choice = rand() % 4;\n",
    "if(\n",
    "choice == 0) x += speed;\n",
    "else if(choice == 1) y += speed;\n",
    "else if(choice == 2) x -= speed;\n",
    "else\n",
    "y -= speed;\n",
    "} // end of swim method\n",
    "```"
   ]
  }
 ],
 "metadata": {
  "kernelspec": {
   "display_name": "Python 3",
   "language": "python",
   "name": "python3"
  },
  "language_info": {
   "codemirror_mode": {
    "name": "ipython",
    "version": 3
   },
   "file_extension": ".py",
   "mimetype": "text/x-python",
   "name": "python",
   "nbconvert_exporter": "python",
   "pygments_lexer": "ipython3",
   "version": "3.6.4"
  }
 },
 "nbformat": 4,
 "nbformat_minor": 2
}
