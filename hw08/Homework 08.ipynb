{
 "cells": [
  {
   "cell_type": "markdown",
   "metadata": {},
   "source": [
    "# Homework 08 \n",
    "\n",
    "## 1. What does the friend keyword do?\n",
    "- Used for printable class, friend keyword let the method access private attributes / data of the class.\n",
    "\n",
    "## 2. Why should you never use using namespace std;?\n",
    "\n",
    "- You might accidentally call methods from std, or name variables after them. \n",
    "\n",
    "## 3. Describe fours ways to return an object from a method.\n",
    "* return actual object: Can be inefficient, making copy\n",
    "* return reference: has to be member of the class\n",
    "* return pointer: good if creating something on heap. \n",
    "* don't return anything, but pass in reference / pointer as an argument\n",
    "\n",
    "## 4. What does the mutable keyword do?\n",
    "- When making the variable mutable, it allows methods that are modifyuing the variable to be constant.\n",
    "- Used in cache pattern\n",
    "\n",
    "## 5. What are the three ways a class can contain objects in C++?\n",
    "- Actual object: Memory belong to the clss\n",
    "- Reference\n",
    "- Pointer: Object 'owning' the member. Have to keep track of the pointer/Object\n",
    "\n",
    "## 6. What is a Singleton??\n",
    "- Class that can only have one instance, used in log class for fish.\n",
    "\n",
    "## 7. Fish class"
   ]
  }
 ],
 "metadata": {
  "kernelspec": {
   "display_name": "Python 3",
   "language": "python",
   "name": "python3"
  },
  "language_info": {
   "codemirror_mode": {
    "name": "ipython",
    "version": 3
   },
   "file_extension": ".py",
   "mimetype": "text/x-python",
   "name": "python",
   "nbconvert_exporter": "python",
   "pygments_lexer": "ipython3",
   "version": "3.6.4"
  }
 },
 "nbformat": 4,
 "nbformat_minor": 2
}
