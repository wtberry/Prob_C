{
 "cells": [
  {
   "cell_type": "markdown",
   "metadata": {},
   "source": [
    "# Homework 06\n",
    "\n",
    "## 1. What are libraries good for?\n",
    "- You can utilize someone else's code in your project, if things you need to do is already written by someone else.\n",
    "\n",
    "## 2. What are the two types of library and how are they different?\n",
    "1. **Static Library**: \n",
    ">just like the object files they are made of, and the library files becomes part of the executable, meaning becomes part of your project. Once linked to the project, the project can run without the library file around. Easier to distribute.\n",
    "\n",
    "2. **Shared Object Library**\n",
    "> Remain separate from the project, and machine code for the library is loaded into the project on runtime. One library file can be used by several project.\n",
    "Almost exclusively used by programmer."
   ]
  }
 ],
 "metadata": {
  "kernelspec": {
   "display_name": "Python 3",
   "language": "python",
   "name": "python3"
  },
  "language_info": {
   "codemirror_mode": {
    "name": "ipython",
    "version": 3
   },
   "file_extension": ".py",
   "mimetype": "text/x-python",
   "name": "python",
   "nbconvert_exporter": "python",
   "pygments_lexer": "ipython3",
   "version": "3.6.4"
  }
 },
 "nbformat": 4,
 "nbformat_minor": 2
}
