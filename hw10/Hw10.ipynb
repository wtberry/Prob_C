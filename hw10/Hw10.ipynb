{
 "cells": [
  {
   "cell_type": "markdown",
   "metadata": {},
   "source": [
    "# Homework 10\n",
    "\n",
    "## 1. What is the fundamental difference between how Java and C++ implement collections?\n",
    "- Java's collection is implemented using the superclass, 'Object'. C++ is implemented using template.\n",
    "## 2. What is the difference between a template and a class?\n",
    "- Template doesn't depend on one datatype, it can take any datatype, but template does not have .cc file since it can't be compilted until you know what the datatype is. \n",
    "## 3. What are some of the drawbacks of templates?\n",
    "- When you start creating every classes as template, and these are used for different datatypes together, it will increase the size of executable, and slows down compliation time. \n",
    "## 4. What is an iterator?\n",
    "- C++ class which represent the element in a collection. You declare and use it to iterate through elements in vector class in c++.\n",
    "## 5. On github"
   ]
  }
 ],
 "metadata": {
  "kernelspec": {
   "display_name": "Python 3",
   "language": "python",
   "name": "python3"
  },
  "language_info": {
   "codemirror_mode": {
    "name": "ipython",
    "version": 3
   },
   "file_extension": ".py",
   "mimetype": "text/x-python",
   "name": "python",
   "nbconvert_exporter": "python",
   "pygments_lexer": "ipython3",
   "version": "3.6.4"
  }
 },
 "nbformat": 4,
 "nbformat_minor": 2
}
